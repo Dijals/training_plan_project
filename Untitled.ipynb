{
 "cells": [
  {
   "cell_type": "code",
   "execution_count": 1,
   "metadata": {},
   "outputs": [],
   "source": [
    "import django"
   ]
  },
  {
   "cell_type": "code",
   "execution_count": 2,
   "metadata": {},
   "outputs": [],
   "source": [
    "django.setup()"
   ]
  },
  {
   "cell_type": "code",
   "execution_count": 3,
   "metadata": {},
   "outputs": [],
   "source": [
    "from flow_hosp_live.models import CoreTrainee, CoreBranch, CoreCompany,CoreExternaltraining"
   ]
  },
  {
   "cell_type": "code",
   "execution_count": 4,
   "metadata": {},
   "outputs": [],
   "source": [
    "user = CoreTrainee.objects.get(pk=1)"
   ]
  },
  {
   "cell_type": "code",
   "execution_count": 5,
   "metadata": {},
   "outputs": [
    {
     "data": {
      "text/plain": [
       "[<CoreTrainee: Trainee Name: Fraser Nevett, Branch Name: Edinburgh, Company Name: Mercurytide >]"
      ]
     },
     "execution_count": 5,
     "metadata": {},
     "output_type": "execute_result"
    }
   ],
   "source": [
    "CoreTrainee.objects.filter(pk = user.id)"
   ]
  },
  {
   "cell_type": "code",
   "execution_count": 6,
   "metadata": {},
   "outputs": [],
   "source": [
    "c = user.branch.company"
   ]
  },
  {
   "cell_type": "code",
   "execution_count": 7,
   "metadata": {},
   "outputs": [
    {
     "data": {
      "text/plain": [
       "1L"
      ]
     },
     "execution_count": 7,
     "metadata": {},
     "output_type": "execute_result"
    }
   ],
   "source": [
    "c.id"
   ]
  },
  {
   "cell_type": "code",
   "execution_count": 34,
   "metadata": {},
   "outputs": [],
   "source": [
    "external_training = CoreExternaltraining.objects.filter(company_id = 3388)"
   ]
  },
  {
   "cell_type": "code",
   "execution_count": 35,
   "metadata": {},
   "outputs": [
    {
     "data": {
      "text/plain": [
       "[<CoreExternaltraining: External Training: 16 Points of Service, Company Name: Good Life Diner>, <CoreExternaltraining: External Training: Accident Reporting, Company Name: Good Life Diner>, <CoreExternaltraining: External Training: Disciplinary Training, Company Name: Good Life Diner>, <CoreExternaltraining: External Training: Flow - Induction process, Company Name: Good Life Diner>, <CoreExternaltraining: External Training: Flow - training, Company Name: Good Life Diner>, <CoreExternaltraining: External Training: Menu training - Basic, Company Name: Good Life Diner>, <CoreExternaltraining: External Training: Qudini training, Company Name: Good Life Diner>, <CoreExternaltraining: External Training: Recruitment training, Company Name: Good Life Diner>, <CoreExternaltraining: External Training: WBO - Adding new products, Company Name: Good Life Diner>]"
      ]
     },
     "execution_count": 35,
     "metadata": {},
     "output_type": "execute_result"
    }
   ],
   "source": [
    "external_training.filter(provider='Sofia Gassne Ford')"
   ]
  },
  {
   "cell_type": "code",
   "execution_count": 9,
   "metadata": {},
   "outputs": [
    {
     "data": {
      "text/plain": [
       "<CoreExternaltraining: External Training: Managing an Effective Kitchen (as a Duty Manager) Workshop, Company Name: La Tasca LMS Test>"
      ]
     },
     "execution_count": 9,
     "metadata": {},
     "output_type": "execute_result"
    }
   ],
   "source": [
    "CoreExternaltraining.objects.get(pk=1)"
   ]
  },
  {
   "cell_type": "code",
   "execution_count": 10,
   "metadata": {},
   "outputs": [
    {
     "name": "stdout",
     "output_type": "stream",
     "text": [
      "Hospitality, Supervision and Leadership Level 3\n",
      "Managing an Effective Kitchen (as a Duty Manager) Workshop\n",
      "Perception of Guest's Needs - 2 day Workshop\n",
      "Performance Management Workshop\n",
      "Producing the Winning 90 Day Action Plan Workshop\n",
      "The Margin Workshop\n"
     ]
    }
   ],
   "source": [
    "for t in training:\n",
    "    print(t.name)"
   ]
  },
  {
   "cell_type": "code",
   "execution_count": 21,
   "metadata": {},
   "outputs": [
    {
     "data": {
      "text/plain": [
       "15"
      ]
     },
     "execution_count": 21,
     "metadata": {},
     "output_type": "execute_result"
    }
   ],
   "source": [
    "training.filter(provider = \"\").count()"
   ]
  },
  {
   "cell_type": "code",
   "execution_count": 47,
   "metadata": {},
   "outputs": [
    {
     "data": {
      "text/plain": [
       "[{'provider': u''}, {'provider': None}]"
      ]
     },
     "execution_count": 47,
     "metadata": {},
     "output_type": "execute_result"
    }
   ],
   "source": [
    "training.values('provider').distinct()"
   ]
  },
  {
   "cell_type": "code",
   "execution_count": 30,
   "metadata": {},
   "outputs": [
    {
     "data": {
      "text/plain": [
       "[{'provider_count': 15, 'provider': u''}, {'provider_count': 0, 'provider': None}]"
      ]
     },
     "execution_count": 30,
     "metadata": {},
     "output_type": "execute_result"
    }
   ],
   "source": [
    "training.values('provider').annotate(provider_count=Count('provider'))"
   ]
  },
  {
   "cell_type": "code",
   "execution_count": 23,
   "metadata": {},
   "outputs": [],
   "source": [
    "training =CoreExternaltraining.objects.filter(company_id = 3388).values('training_type').distinct()"
   ]
  },
  {
   "cell_type": "code",
   "execution_count": 40,
   "metadata": {},
   "outputs": [],
   "source": [
    "provider = training.values('provider').distinct()"
   ]
  },
  {
   "cell_type": "code",
   "execution_count": 9,
   "metadata": {},
   "outputs": [
    {
     "name": "stdout",
     "output_type": "stream",
     "text": [
      "{'provider': u'Sofia Gassne Ford'}\n",
      "{'provider': u'Avani Solutions'}\n",
      "{'provider': u''}\n",
      "{'provider': u'Camden Town brewery'}\n",
      "{'provider': u'Union Coffee'}\n",
      "{'provider': u'East London Liquor Company'}\n",
      "{'provider': u'Sofia Gassne Ford/Austin Latimer'}\n",
      "{'provider': u'NCASS'}\n",
      "{'provider': u'Mike Harrington'}\n",
      "{'provider': u'Entoria and Co'}\n"
     ]
    }
   ],
   "source": [
    "for p in training:\n",
    "    if p != None or p != \"\": \n",
    "        print(p)\n",
    "    elif p == None:\n",
    "        print('not provided')\n",
    "    else:\n",
    "        print('missing')\n",
    "            "
   ]
  },
  {
   "cell_type": "code",
   "execution_count": 25,
   "metadata": {},
   "outputs": [
    {
     "name": "stdout",
     "output_type": "stream",
     "text": [
      "{'training_type': u'Class room'}\n",
      "{'training_type': u''}\n",
      "{'training_type': u'online'}\n"
     ]
    }
   ],
   "source": [
    "for p in training:\n",
    "        print(p)\n",
    "   "
   ]
  },
  {
   "cell_type": "code",
   "execution_count": 37,
   "metadata": {},
   "outputs": [
    {
     "data": {
      "text/plain": [
       "[<CoreExternaltraining: External Training: 16 Points of Service, Company Name: Good Life Diner>, <CoreExternaltraining: External Training: Accident Reporting, Company Name: Good Life Diner>, <CoreExternaltraining: External Training: Disciplinary Training, Company Name: Good Life Diner>, <CoreExternaltraining: External Training: Flow - Induction process, Company Name: Good Life Diner>, <CoreExternaltraining: External Training: Flow - training, Company Name: Good Life Diner>, <CoreExternaltraining: External Training: Menu training - Basic, Company Name: Good Life Diner>, <CoreExternaltraining: External Training: Qudini training, Company Name: Good Life Diner>, <CoreExternaltraining: External Training: Recruitment training, Company Name: Good Life Diner>, <CoreExternaltraining: External Training: WBO - Adding new products, Company Name: Good Life Diner>]"
      ]
     },
     "execution_count": 37,
     "metadata": {},
     "output_type": "execute_result"
    }
   ],
   "source": [
    "CoreExternaltraining.objects.filter(company_id = 3388, provider='Sofia Gassne Ford')"
   ]
  },
  {
   "cell_type": "code",
   "execution_count": null,
   "metadata": {},
   "outputs": [],
   "source": []
  }
 ],
 "metadata": {
  "kernelspec": {
   "display_name": "Django Shell-Plus",
   "language": "python",
   "name": "django_extensions"
  },
  "language_info": {
   "codemirror_mode": {
    "name": "ipython",
    "version": 2
   },
   "file_extension": ".py",
   "mimetype": "text/x-python",
   "name": "python",
   "nbconvert_exporter": "python",
   "pygments_lexer": "ipython2",
   "version": "2.7.12"
  }
 },
 "nbformat": 4,
 "nbformat_minor": 2
}
